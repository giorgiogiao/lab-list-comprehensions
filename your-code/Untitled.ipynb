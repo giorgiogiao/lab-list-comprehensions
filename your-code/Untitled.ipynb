{
 "cells": [
  {
   "cell_type": "code",
   "execution_count": 1,
   "id": "ca3c048f",
   "metadata": {},
   "outputs": [
    {
     "data": {
      "text/plain": [
       "1"
      ]
     },
     "execution_count": 1,
     "metadata": {},
     "output_type": "execute_result"
    }
   ],
   "source": [
    "a = [1,2,3,4]\n",
    "a[0]"
   ]
  },
  {
   "cell_type": "code",
   "execution_count": 2,
   "id": "3b05103e",
   "metadata": {},
   "outputs": [
    {
     "data": {
      "text/plain": [
       "[1, 2, 3, 4, 10]"
      ]
     },
     "execution_count": 2,
     "metadata": {},
     "output_type": "execute_result"
    }
   ],
   "source": [
    "a.append(10)\n",
    "a"
   ]
  },
  {
   "cell_type": "code",
   "execution_count": 5,
   "id": "83faa36c",
   "metadata": {},
   "outputs": [],
   "source": [
    "a = [13, 64, 15, 17, 88]\n",
    "b = [23, 14, 53, 17, 80]\n",
    "\n",
    "def get_larger_numbers(a, b):\n",
    "    count = 0\n",
    "    larger_number_list =[]\n",
    "    for number in a:\n",
    "        if number > b[count]:\n",
    "            larger_number_list.append(number)\n",
    "            count += 1\n",
    "        else:      \n",
    "            larger_number_list.append(b[count])\n",
    "            count += 1\n",
    "    return larger_number_list\n"
   ]
  },
  {
   "cell_type": "code",
   "execution_count": 6,
   "id": "850eca0a",
   "metadata": {},
   "outputs": [
    {
     "data": {
      "text/plain": [
       "[23, 64, 53, 17, 88]"
      ]
     },
     "execution_count": 6,
     "metadata": {},
     "output_type": "execute_result"
    }
   ],
   "source": [
    "get_larger_numbers(a, b)"
   ]
  },
  {
   "cell_type": "code",
   "execution_count": 32,
   "id": "722281b1",
   "metadata": {},
   "outputs": [
    {
     "ename": "TypeError",
     "evalue": "unsupported operand type(s) for -: 'list' and 'list'",
     "output_type": "error",
     "traceback": [
      "\u001b[0;31m---------------------------------------------------------------------------\u001b[0m",
      "\u001b[0;31mTypeError\u001b[0m                                 Traceback (most recent call last)",
      "\u001b[0;32m/var/folders/_0/46b7d7lx5gxfy45sbjf5py3h0000gn/T/ipykernel_18656/480295822.py\u001b[0m in \u001b[0;36m<module>\u001b[0;34m\u001b[0m\n\u001b[1;32m      1\u001b[0m \u001b[0ma\u001b[0m \u001b[0;34m=\u001b[0m\u001b[0;34m[\u001b[0m\u001b[0;36m1\u001b[0m\u001b[0;34m,\u001b[0m\u001b[0;36m2\u001b[0m\u001b[0;34m]\u001b[0m\u001b[0;34m\u001b[0m\u001b[0;34m\u001b[0m\u001b[0m\n\u001b[1;32m      2\u001b[0m \u001b[0mb\u001b[0m \u001b[0;34m=\u001b[0m\u001b[0;34m[\u001b[0m\u001b[0;36m1\u001b[0m\u001b[0;34m]\u001b[0m\u001b[0;34m\u001b[0m\u001b[0;34m\u001b[0m\u001b[0m\n\u001b[0;32m----> 3\u001b[0;31m \u001b[0mc\u001b[0m\u001b[0;34m=\u001b[0m\u001b[0ma\u001b[0m\u001b[0;34m-\u001b[0m\u001b[0mb\u001b[0m\u001b[0;34m\u001b[0m\u001b[0;34m\u001b[0m\u001b[0m\n\u001b[0m\u001b[1;32m      4\u001b[0m \u001b[0mc\u001b[0m\u001b[0;34m\u001b[0m\u001b[0;34m\u001b[0m\u001b[0m\n",
      "\u001b[0;31mTypeError\u001b[0m: unsupported operand type(s) for -: 'list' and 'list'"
     ]
    }
   ],
   "source": [
    "a =[1,2]\n",
    "b =[1]\n",
    "c=a-b\n",
    "c"
   ]
  },
  {
   "cell_type": "code",
   "execution_count": 35,
   "id": "d714d2e1",
   "metadata": {},
   "outputs": [
    {
     "data": {
      "text/plain": [
       "[1,\n",
       " 2,\n",
       " 3,\n",
       " 4,\n",
       " 6,\n",
       " 7,\n",
       " 8,\n",
       " 9,\n",
       " 10,\n",
       " 11,\n",
       " 12,\n",
       " 13,\n",
       " 14,\n",
       " 16,\n",
       " 17,\n",
       " 18,\n",
       " 19,\n",
       " 20,\n",
       " 21,\n",
       " 22,\n",
       " 23,\n",
       " 24,\n",
       " 26,\n",
       " 27,\n",
       " 28,\n",
       " 29,\n",
       " 30,\n",
       " 31,\n",
       " 32,\n",
       " 33,\n",
       " 34,\n",
       " 36,\n",
       " 37,\n",
       " 38,\n",
       " 39,\n",
       " 40,\n",
       " 41,\n",
       " 42,\n",
       " 43,\n",
       " 44,\n",
       " 46,\n",
       " 47,\n",
       " 48,\n",
       " 49,\n",
       " 50,\n",
       " 51,\n",
       " 52,\n",
       " 53,\n",
       " 54,\n",
       " 56,\n",
       " 57,\n",
       " 58,\n",
       " 59,\n",
       " 60,\n",
       " 61,\n",
       " 62,\n",
       " 63,\n",
       " 64,\n",
       " 66,\n",
       " 67,\n",
       " 68,\n",
       " 69,\n",
       " 70,\n",
       " 71,\n",
       " 72,\n",
       " 73,\n",
       " 74,\n",
       " 76,\n",
       " 77,\n",
       " 78,\n",
       " 79,\n",
       " 80,\n",
       " 81,\n",
       " 82,\n",
       " 83,\n",
       " 84,\n",
       " 86,\n",
       " 87,\n",
       " 88,\n",
       " 89,\n",
       " 90,\n",
       " 91,\n",
       " 92,\n",
       " 93,\n",
       " 94,\n",
       " 96,\n",
       " 97,\n",
       " 98,\n",
       " 99,\n",
       " 100,\n",
       " 101,\n",
       " 102,\n",
       " 103,\n",
       " 104,\n",
       " 106,\n",
       " 107,\n",
       " 108,\n",
       " 109,\n",
       " 110,\n",
       " 111,\n",
       " 112,\n",
       " 113,\n",
       " 114,\n",
       " 116,\n",
       " 117,\n",
       " 118,\n",
       " 119,\n",
       " 120,\n",
       " 121,\n",
       " 122,\n",
       " 123,\n",
       " 124,\n",
       " 126,\n",
       " 127,\n",
       " 128,\n",
       " 129,\n",
       " 130,\n",
       " 131,\n",
       " 132,\n",
       " 133,\n",
       " 134,\n",
       " 136,\n",
       " 137,\n",
       " 138,\n",
       " 139,\n",
       " 140,\n",
       " 141,\n",
       " 142,\n",
       " 143,\n",
       " 144,\n",
       " 146,\n",
       " 147,\n",
       " 148,\n",
       " 149]"
      ]
     },
     "execution_count": 35,
     "metadata": {},
     "output_type": "execute_result"
    }
   ],
   "source": [
    "list= [number for number in range(1,150) if (number%5 != 0 or number%10 ==0)]\n",
    "list"
   ]
  },
  {
   "cell_type": "code",
   "execution_count": 38,
   "id": "04d7b982",
   "metadata": {},
   "outputs": [],
   "source": [
    "def dont_give_me_five(start,end):\n",
    "    n = [number for number in range(start,(end+1)) if (number%5 != 0 or number%10 ==0)]\n",
    "    return len(n),n   # amount of numbers"
   ]
  },
  {
   "cell_type": "code",
   "execution_count": 39,
   "id": "ed03fd7b",
   "metadata": {},
   "outputs": [
    {
     "data": {
      "text/plain": [
       "(55,\n",
       " [50,\n",
       "  51,\n",
       "  52,\n",
       "  53,\n",
       "  54,\n",
       "  56,\n",
       "  57,\n",
       "  58,\n",
       "  59,\n",
       "  60,\n",
       "  61,\n",
       "  62,\n",
       "  63,\n",
       "  64,\n",
       "  66,\n",
       "  67,\n",
       "  68,\n",
       "  69,\n",
       "  70,\n",
       "  71,\n",
       "  72,\n",
       "  73,\n",
       "  74,\n",
       "  76,\n",
       "  77,\n",
       "  78,\n",
       "  79,\n",
       "  80,\n",
       "  81,\n",
       "  82,\n",
       "  83,\n",
       "  84,\n",
       "  86,\n",
       "  87,\n",
       "  88,\n",
       "  89,\n",
       "  90,\n",
       "  91,\n",
       "  92,\n",
       "  93,\n",
       "  94,\n",
       "  96,\n",
       "  97,\n",
       "  98,\n",
       "  99,\n",
       "  100,\n",
       "  101,\n",
       "  102,\n",
       "  103,\n",
       "  104,\n",
       "  106,\n",
       "  107,\n",
       "  108,\n",
       "  109,\n",
       "  110])"
      ]
     },
     "execution_count": 39,
     "metadata": {},
     "output_type": "execute_result"
    }
   ],
   "source": [
    "dont_give_me_five(50,110)"
   ]
  },
  {
   "cell_type": "code",
   "execution_count": 44,
   "id": "ed8ed888",
   "metadata": {},
   "outputs": [],
   "source": [
    "def dont_give_me_five(start,end):\n",
    "    n = [number for number in range(start,(end+1)) for digit in range(0,(len(str(number-1)))) if str(number)[digit] != \"5\"]\n",
    "    return len(n),n   # amount of numbers"
   ]
  },
  {
   "cell_type": "code",
   "execution_count": 45,
   "id": "4bc6e3c6",
   "metadata": {},
   "outputs": [
    {
     "data": {
      "text/plain": [
       "(116,\n",
       " [50,\n",
       "  51,\n",
       "  52,\n",
       "  53,\n",
       "  54,\n",
       "  56,\n",
       "  57,\n",
       "  58,\n",
       "  59,\n",
       "  60,\n",
       "  60,\n",
       "  61,\n",
       "  61,\n",
       "  62,\n",
       "  62,\n",
       "  63,\n",
       "  63,\n",
       "  64,\n",
       "  64,\n",
       "  65,\n",
       "  66,\n",
       "  66,\n",
       "  67,\n",
       "  67,\n",
       "  68,\n",
       "  68,\n",
       "  69,\n",
       "  69,\n",
       "  70,\n",
       "  70,\n",
       "  71,\n",
       "  71,\n",
       "  72,\n",
       "  72,\n",
       "  73,\n",
       "  73,\n",
       "  74,\n",
       "  74,\n",
       "  75,\n",
       "  76,\n",
       "  76,\n",
       "  77,\n",
       "  77,\n",
       "  78,\n",
       "  78,\n",
       "  79,\n",
       "  79,\n",
       "  80,\n",
       "  80,\n",
       "  81,\n",
       "  81,\n",
       "  82,\n",
       "  82,\n",
       "  83,\n",
       "  83,\n",
       "  84,\n",
       "  84,\n",
       "  85,\n",
       "  86,\n",
       "  86,\n",
       "  87,\n",
       "  87,\n",
       "  88,\n",
       "  88,\n",
       "  89,\n",
       "  89,\n",
       "  90,\n",
       "  90,\n",
       "  91,\n",
       "  91,\n",
       "  92,\n",
       "  92,\n",
       "  93,\n",
       "  93,\n",
       "  94,\n",
       "  94,\n",
       "  95,\n",
       "  96,\n",
       "  96,\n",
       "  97,\n",
       "  97,\n",
       "  98,\n",
       "  98,\n",
       "  99,\n",
       "  99,\n",
       "  100,\n",
       "  100,\n",
       "  101,\n",
       "  101,\n",
       "  101,\n",
       "  102,\n",
       "  102,\n",
       "  102,\n",
       "  103,\n",
       "  103,\n",
       "  103,\n",
       "  104,\n",
       "  104,\n",
       "  104,\n",
       "  105,\n",
       "  105,\n",
       "  106,\n",
       "  106,\n",
       "  106,\n",
       "  107,\n",
       "  107,\n",
       "  107,\n",
       "  108,\n",
       "  108,\n",
       "  108,\n",
       "  109,\n",
       "  109,\n",
       "  109,\n",
       "  110,\n",
       "  110,\n",
       "  110])"
      ]
     },
     "execution_count": 45,
     "metadata": {},
     "output_type": "execute_result"
    }
   ],
   "source": [
    "dont_give_me_five(50,110)"
   ]
  },
  {
   "cell_type": "code",
   "execution_count": 77,
   "id": "76673a72",
   "metadata": {},
   "outputs": [
    {
     "name": "stdout",
     "output_type": "stream",
     "text": [
      "[0, 1, 2, 3, 4, 6, 7, 8, 9, 10, 11, 12, 13, 14, 16, 17, 18, 19, 20, 21, 22, 23, 24, 26, 27, 28, 29, 30, 31, 32, 33, 34, 36, 37, 38, 39, 40, 41, 42, 43, 44, 46, 47, 48, 49, 60, 61, 62, 63, 64, 66, 67, 68, 69, 70, 71, 72, 73, 74, 76, 77, 78, 79, 80, 81, 82, 83, 84, 86, 87, 88, 89, 90, 91, 92, 93, 94, 96, 97, 98, 99]\n"
     ]
    }
   ],
   "source": [
    "result =[]\n",
    "for number in range(0,100):\n",
    "    count =0\n",
    "    for digit in range(0,(len(str(number)))):\n",
    "        if (str(number))[digit] == \"5\":\n",
    "            count += 1\n",
    "        else:\n",
    "            continue\n",
    "    if count == 0:\n",
    "        result.append(number)\n",
    "        \n",
    "print(result)"
   ]
  },
  {
   "cell_type": "code",
   "execution_count": 69,
   "id": "f479e59c",
   "metadata": {},
   "outputs": [
    {
     "data": {
      "text/plain": [
       "'5'"
      ]
     },
     "execution_count": 69,
     "metadata": {},
     "output_type": "execute_result"
    }
   ],
   "source": [
    "a = '5555'\n",
    "a[0]"
   ]
  },
  {
   "cell_type": "code",
   "execution_count": null,
   "id": "f536a5ee",
   "metadata": {},
   "outputs": [],
   "source": []
  }
 ],
 "metadata": {
  "kernelspec": {
   "display_name": "Python 3 (ipykernel)",
   "language": "python",
   "name": "python3"
  },
  "language_info": {
   "codemirror_mode": {
    "name": "ipython",
    "version": 3
   },
   "file_extension": ".py",
   "mimetype": "text/x-python",
   "name": "python",
   "nbconvert_exporter": "python",
   "pygments_lexer": "ipython3",
   "version": "3.9.7"
  }
 },
 "nbformat": 4,
 "nbformat_minor": 5
}
